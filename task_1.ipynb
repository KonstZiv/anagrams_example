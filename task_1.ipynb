{
 "cells": [
  {
   "attachments": {},
   "cell_type": "markdown",
   "metadata": {},
   "source": [
    "I propose to divide this task into several subtasks:\n",
    "- since we need to invert each \"word\" separately, I first propose to get a \"list of words\"\n",
    "- the second part - each \"word\" must be processed taking into account the task - non-alphabetic characters should be left in place, and alphabetic characters should be reversed.\n",
    "- then \"glue into a new line\" all the inverted words\n",
    "\n",
    "at each stage, we will consider separately emerging nuances"
   ]
  },
  {
   "attachments": {},
   "cell_type": "markdown",
   "metadata": {},
   "source": [
    "## Part 1\n",
    "\n",
    "---\n",
    "\n",
    "This task can be understood in different ways, and, accordingly, solved in different ways.\n",
    "1) we consider that the entire \"line of words\" is just one line and the words are separated by one space\n",
    "2) we believe that not one space character, but several can separate words. When restoring a string, you need to keep the original number of whitespace characters between \"inverted words\"\n",
    "3) we believe that the original string may consist of \"more than one line\" - that is, a newline character may occur - and it must be in its place when restoring the line.\n",
    "\n",
    "I think that you can come up with more options if you spend more time on it.\n",
    "\n",
    "we will consider the simplest option, the first"
   ]
  },
  {
   "attachments": {},
   "cell_type": "markdown",
   "metadata": {},
   "source": [
    "---\n",
    "\n",
    "#### part 1, subtask 1\n",
    "\n",
    "The easiest option is to use the string method [str.split()](https://docs.python.org/3/library/stdtypes.html#str.split)\n",
    "\n",
    "[some theory here](https://realpython.com/python-strings/)\n"
   ]
  },
  {
   "cell_type": "code",
   "execution_count": 1,
   "metadata": {},
   "outputs": [],
   "source": [
    "from typing import List"
   ]
  },
  {
   "cell_type": "code",
   "execution_count": 2,
   "metadata": {},
   "outputs": [],
   "source": [
    "def get_words_list(original_sentenc: str) -> List[str]:\n",
    "    \"\"\"Get list of words from full string.\n",
    "    \n",
    "    >>> original_sentenc = \"asw1fr   45yta !hgfdsa ? asdf.\"\n",
    "    >>> get_words_list(a)\n",
    "    ['asw1fr', '45yta', '!hgfdsa', '?', 'asdf.']\n",
    "    \"\"\"\n",
    "    return original_sentenc.split()\n"
   ]
  },
  {
   "attachments": {},
   "cell_type": "markdown",
   "metadata": {},
   "source": [
    "## Part 2\n",
    "\n",
    "---\n",
    "\n",
    "To solve this problem, remember that there is a method of strings [str.isalpha()](https://docs.python.org/3/library/stdtypes.html#str.isalpha)\n",
    "In fact, we can think of a string as a \"overlay\" of a string of literal characters and a string of \"non-literal\" characters:\n",
    "```\n",
    "feo2t3,mit12    # full line\n",
    "feo t  mit      # literal character string\n",
    "   2 3,   12    # string of non-alphabetic characters\n",
    "tim t  feo      # injected character string\n",
    "tim2t3,feo12    # final line"
   ]
  },
  {
   "cell_type": "code",
   "execution_count": 5,
   "metadata": {},
   "outputs": [],
   "source": [
    "def get_trcky_word_revers(word: str) -> str:\n",
    "    \"\"\"\n",
    "    Get a string in which all alpha-characters change their order to the reverse,\n",
    "    and all other characters take the same places.\n",
    "\n",
    "    >>> a = 'abcd'\n",
    "    >>> get_trcky_word_revers(a)\n",
    "    'dcba'\n",
    "\n",
    "    >>> b = '1ds 34 asdf '\n",
    "    >>> get_trcky_word_revers(b)\n",
    "    '1fd 34 sasd '\n",
    "    \"\"\"\n",
    "    # get list only for letters\n",
    "    alpha_list = [symbol for symbol in word if symbol.isalpha()]\n",
    "    # get reversed alpha_lisr\n",
    "    alpha_list.reverse()\n",
    "    # get result list wis inverted alpha string and exising non-alpha string\n",
    "    result_list = [alpha_list.pop(0) if symbol.isalpha() else symbol for symbol in word]\n",
    "    # get result string (use [str.join()](https://docs.python.org/3/library/stdtypes.html#str.join))\n",
    "    return \"\".join(result_list)"
   ]
  },
  {
   "attachments": {},
   "cell_type": "markdown",
   "metadata": {},
   "source": [
    "## Part 3\n",
    "\n",
    "---\n",
    "\n",
    "Using the string method str.join(), we simply collect the final string from the list of inverted words"
   ]
  },
  {
   "cell_type": "code",
   "execution_count": 8,
   "metadata": {},
   "outputs": [],
   "source": [
    "def get_final_sentence(reversed_words_list: List[str]) -> str:\n",
    "    \"\"\"Get a string from the elements of a list separated by a single space.\"\"\"\n",
    "    \n",
    "    return \" \".join(reversed_words_list)"
   ]
  },
  {
   "attachments": {},
   "cell_type": "markdown",
   "metadata": {},
   "source": [
    "### putting it all together\n",
    "\n",
    "---"
   ]
  },
  {
   "cell_type": "code",
   "execution_count": 9,
   "metadata": {},
   "outputs": [],
   "source": [
    "def tricky_invert_sentence(original_sentence: str) -> str:\n",
    "    \"\"\"Get a sentence that consists of the words of the input sentence in the same order,\n",
    "    but each word is obtained by reversing all alpha-characters within the word, while leaving\n",
    "    all other characters in their places.\n",
    "\n",
    "    >>> a = 'asdf 1g?zxcv56  1we'\n",
    "    >>> tricky_invert_sentence(a)\n",
    "    'fdsa 1v?cxzg56 1ew'\n",
    "    \n",
    "    \"\"\"\n",
    "    list_of_origin_words = get_words_list(original_sentence)\n",
    "    list_of_inverted_words = [get_trcky_word_revers(word) for word in list_of_origin_words]\n",
    "    return get_final_sentence(list_of_inverted_words)\n"
   ]
  },
  {
   "cell_type": "code",
   "execution_count": 10,
   "metadata": {},
   "outputs": [],
   "source": [
    "cases = [\n",
    "    (\"abcd efgh\", \"dcba hgfe\"),\n",
    "    (\"a1bcd efg!h\", \"d1cba hgf!e\"),\n",
    "    (\"\", \"\"),\n",
    "]\n",
    "\n",
    "for text, reversed_text in cases:\n",
    "    assert tricky_invert_sentence(text) == reversed_text"
   ]
  }
 ],
 "metadata": {
  "kernelspec": {
   "display_name": ".venv",
   "language": "python",
   "name": "python3"
  },
  "language_info": {
   "codemirror_mode": {
    "name": "ipython",
    "version": 3
   },
   "file_extension": ".py",
   "mimetype": "text/x-python",
   "name": "python",
   "nbconvert_exporter": "python",
   "pygments_lexer": "ipython3",
   "version": "3.11.3"
  },
  "orig_nbformat": 4
 },
 "nbformat": 4,
 "nbformat_minor": 2
}
